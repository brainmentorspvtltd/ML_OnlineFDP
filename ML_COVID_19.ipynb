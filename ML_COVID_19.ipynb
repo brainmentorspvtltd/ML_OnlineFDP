{
  "nbformat": 4,
  "nbformat_minor": 0,
  "metadata": {
    "colab": {
      "name": "ML_COVID-19.ipynb",
      "provenance": [],
      "collapsed_sections": [],
      "authorship_tag": "ABX9TyM5fazDhZ08jFiTV6E9H8Q1",
      "include_colab_link": true
    },
    "kernelspec": {
      "name": "python3",
      "display_name": "Python 3"
    }
  },
  "cells": [
    {
      "cell_type": "markdown",
      "metadata": {
        "id": "view-in-github",
        "colab_type": "text"
      },
      "source": [
        "<a href=\"https://colab.research.google.com/github/brainmentorspvtltd/ML_OnlineFDP/blob/master/ML_COVID_19.ipynb\" target=\"_parent\"><img src=\"https://colab.research.google.com/assets/colab-badge.svg\" alt=\"Open In Colab\"/></a>"
      ]
    },
    {
      "cell_type": "code",
      "metadata": {
        "id": "A08NjI7Vq5a1",
        "colab_type": "code",
        "colab": {}
      },
      "source": [
        "# pandas - read csv file and perform analysis\n",
        "import pandas as pd\n",
        "# numpy - to handle nd array like reshaping of data\n",
        "import numpy as np\n",
        "# matplotlib - for data visualization\n",
        "import matplotlib.pyplot as plt\n",
        "# StandardScaler - Feature Scaling (Standardization)\n",
        "# LabelEncoder - For converting categorical data into numeric like (Gender -> Male/Female/Transgender -> 0/1/2)\n",
        "# OneHotEncoder - For converting categorical data which has more than two categories into binary encoding\n",
        "from sklearn.preprocessing import StandardScaler, LabelEncoder, OneHotEncoder\n",
        "# LogisticRegression - To perform machine learning using logistic regression\n",
        "from sklearn.linear_model import LogisticRegression\n",
        "# SVC - Support Vector Classifier\n",
        "from sklearn.svm import SVC\n",
        "# train_test_split - divide the whole dataset into training and testing part\n",
        "from sklearn.model_selection import train_test_split\n",
        "# accurcay_score - to show accuracy of model\n",
        "from sklearn.metrics import accuracy_score, classification_report"
      ],
      "execution_count": 0,
      "outputs": []
    },
    {
      "cell_type": "code",
      "metadata": {
        "id": "yS509Iqkst7t",
        "colab_type": "code",
        "colab": {}
      },
      "source": [
        "# reading csv from github url\n",
        "dataset = pd.read_csv('https://raw.githubusercontent.com/brainmentorspvtltd/ML_OnlineFDP/master/covid_19_dataset.csv')"
      ],
      "execution_count": 0,
      "outputs": []
    },
    {
      "cell_type": "code",
      "metadata": {
        "id": "GSulLhXoTEyK",
        "colab_type": "code",
        "outputId": "76bb4e6d-c40b-4cef-f404-d171ffc5f9d8",
        "colab": {
          "base_uri": "https://localhost:8080/",
          "height": 257
        }
      },
      "source": [
        "# print first 5 observations of data\n",
        "dataset.head()"
      ],
      "execution_count": 3,
      "outputs": [
        {
          "output_type": "execute_result",
          "data": {
            "text/html": [
              "<div>\n",
              "<style scoped>\n",
              "    .dataframe tbody tr th:only-of-type {\n",
              "        vertical-align: middle;\n",
              "    }\n",
              "\n",
              "    .dataframe tbody tr th {\n",
              "        vertical-align: top;\n",
              "    }\n",
              "\n",
              "    .dataframe thead th {\n",
              "        text-align: right;\n",
              "    }\n",
              "</style>\n",
              "<table border=\"1\" class=\"dataframe\">\n",
              "  <thead>\n",
              "    <tr style=\"text-align: right;\">\n",
              "      <th></th>\n",
              "      <th>Country</th>\n",
              "      <th>Age</th>\n",
              "      <th>Gender</th>\n",
              "      <th>fever</th>\n",
              "      <th>Bodypain</th>\n",
              "      <th>Runny_nose</th>\n",
              "      <th>Difficulty_in_breathing</th>\n",
              "      <th>Nasal_congestion</th>\n",
              "      <th>Sore_throat</th>\n",
              "      <th>Severity</th>\n",
              "      <th>Contact_with_covid_patient</th>\n",
              "      <th>Infected</th>\n",
              "    </tr>\n",
              "  </thead>\n",
              "  <tbody>\n",
              "    <tr>\n",
              "      <th>0</th>\n",
              "      <td>China</td>\n",
              "      <td>10</td>\n",
              "      <td>Male</td>\n",
              "      <td>102</td>\n",
              "      <td>1</td>\n",
              "      <td>0</td>\n",
              "      <td>0</td>\n",
              "      <td>0</td>\n",
              "      <td>1</td>\n",
              "      <td>Mild</td>\n",
              "      <td>No</td>\n",
              "      <td>0</td>\n",
              "    </tr>\n",
              "    <tr>\n",
              "      <th>1</th>\n",
              "      <td>Italy</td>\n",
              "      <td>20</td>\n",
              "      <td>Male</td>\n",
              "      <td>103</td>\n",
              "      <td>1</td>\n",
              "      <td>1</td>\n",
              "      <td>0</td>\n",
              "      <td>0</td>\n",
              "      <td>0</td>\n",
              "      <td>Moderate</td>\n",
              "      <td>Not known</td>\n",
              "      <td>1</td>\n",
              "    </tr>\n",
              "    <tr>\n",
              "      <th>2</th>\n",
              "      <td>Iran</td>\n",
              "      <td>55</td>\n",
              "      <td>Transgender</td>\n",
              "      <td>99</td>\n",
              "      <td>0</td>\n",
              "      <td>0</td>\n",
              "      <td>0</td>\n",
              "      <td>1</td>\n",
              "      <td>1</td>\n",
              "      <td>Severe</td>\n",
              "      <td>No</td>\n",
              "      <td>0</td>\n",
              "    </tr>\n",
              "    <tr>\n",
              "      <th>3</th>\n",
              "      <td>Republic of Korean</td>\n",
              "      <td>37</td>\n",
              "      <td>Female</td>\n",
              "      <td>100</td>\n",
              "      <td>0</td>\n",
              "      <td>1</td>\n",
              "      <td>1</td>\n",
              "      <td>0</td>\n",
              "      <td>0</td>\n",
              "      <td>Mild</td>\n",
              "      <td>Yes</td>\n",
              "      <td>1</td>\n",
              "    </tr>\n",
              "    <tr>\n",
              "      <th>4</th>\n",
              "      <td>France</td>\n",
              "      <td>45</td>\n",
              "      <td>Male</td>\n",
              "      <td>101</td>\n",
              "      <td>1</td>\n",
              "      <td>1</td>\n",
              "      <td>1</td>\n",
              "      <td>1</td>\n",
              "      <td>0</td>\n",
              "      <td>Moderate</td>\n",
              "      <td>Yes</td>\n",
              "      <td>1</td>\n",
              "    </tr>\n",
              "  </tbody>\n",
              "</table>\n",
              "</div>"
            ],
            "text/plain": [
              "              Country  Age  ... Contact_with_covid_patient  Infected\n",
              "0               China   10  ...                         No         0\n",
              "1               Italy   20  ...                  Not known         1\n",
              "2                Iran   55  ...                         No         0\n",
              "3  Republic of Korean   37  ...                        Yes         1\n",
              "4              France   45  ...                        Yes         1\n",
              "\n",
              "[5 rows x 12 columns]"
            ]
          },
          "metadata": {
            "tags": []
          },
          "execution_count": 3
        }
      ]
    },
    {
      "cell_type": "code",
      "metadata": {
        "id": "DPoU0-5CTGRv",
        "colab_type": "code",
        "outputId": "13b8d8c0-4aad-4c5b-8ec1-5802f77f9c4d",
        "colab": {
          "base_uri": "https://localhost:8080/",
          "height": 312
        }
      },
      "source": [
        "# print unique countries\n",
        "pd.unique(dataset['Country'])"
      ],
      "execution_count": 4,
      "outputs": [
        {
          "output_type": "execute_result",
          "data": {
            "text/plain": [
              "array(['China', 'Italy', 'Iran', 'Republic of Korean', 'France', 'Spain',\n",
              "       'Germany', 'UAE', 'Russia', 'Canada', 'Netherlands', 'Mexico',\n",
              "       'Pakistan', 'Chile', 'Sweden', 'Peru', 'Ireland', 'Singapore',\n",
              "       'Turkey', 'India', 'Australia', 'Malaysia', 'Argentina', 'Kuwait',\n",
              "       'Morocco', 'Afghanistan', 'Finland', 'Norway', 'Bangladesh',\n",
              "       'South Korea', 'Indonesia', 'Denmark', 'Romania', 'Ukraine',\n",
              "       'Serbia', 'USA', 'Egypt', 'Thailand', 'Iraq', 'New Zealand',\n",
              "       'Japan', 'South Africa', 'Slovakia', 'Somalia', 'Sri Lanka',\n",
              "       'Oman', 'Belgium', 'Kazakhstan', 'Bahrain', 'Nigeria', 'Hungary',\n",
              "       'Philippines', 'Armenia', 'Bulgaria', 'Cuba', 'Sudan', 'Estoria',\n",
              "       'CostaRica', 'Gabon', 'Maldives', 'Albania', 'Cyprus', 'Kenya',\n",
              "       'Georgia', 'Jordan', 'SanMario', 'Malta', 'Taiwan', 'Mauritius',\n",
              "       'Congo', 'Vietnam', 'Zambia', 'Haiti', 'Liberia', 'Nepal', 'Togo',\n",
              "       'Myanmar', 'Cambodia', 'Uganda', 'Bermuda', 'Monaco', 'Barbados',\n",
              "       'Yemen', 'Syria', 'Mongolia', 'Zimbabwe', 'Fiji', 'Bhutan',\n",
              "       'Greenland', 'Poland', 'Israel', 'Austria', 'Czechia', 'Panama',\n",
              "       'Switzerland', 'Ghana', 'Moldova'], dtype=object)"
            ]
          },
          "metadata": {
            "tags": []
          },
          "execution_count": 4
        }
      ]
    },
    {
      "cell_type": "code",
      "metadata": {
        "id": "XK9AQ8XDT0V3",
        "colab_type": "code",
        "outputId": "a49feb85-257d-4c89-b124-70ad2d0eea41",
        "colab": {
          "base_uri": "https://localhost:8080/",
          "height": 35
        }
      },
      "source": [
        "# showing total number of unique countries\n",
        "len(pd.unique(dataset['Country']))"
      ],
      "execution_count": 5,
      "outputs": [
        {
          "output_type": "execute_result",
          "data": {
            "text/plain": [
              "97"
            ]
          },
          "metadata": {
            "tags": []
          },
          "execution_count": 5
        }
      ]
    },
    {
      "cell_type": "code",
      "metadata": {
        "id": "AC5pcM_LT35f",
        "colab_type": "code",
        "outputId": "b8d2e530-290b-446f-e951-f326035a3af2",
        "colab": {
          "base_uri": "https://localhost:8080/",
          "height": 35
        }
      },
      "source": [
        "# printing unique gender values\n",
        "pd.unique(dataset['Gender'])"
      ],
      "execution_count": 6,
      "outputs": [
        {
          "output_type": "execute_result",
          "data": {
            "text/plain": [
              "array(['Male', 'Transgender', 'Female'], dtype=object)"
            ]
          },
          "metadata": {
            "tags": []
          },
          "execution_count": 6
        }
      ]
    },
    {
      "cell_type": "code",
      "metadata": {
        "id": "dbMjFDvWUEBH",
        "colab_type": "code",
        "outputId": "07ad96aa-bbc7-4c34-d50a-f153f92023ca",
        "colab": {
          "base_uri": "https://localhost:8080/",
          "height": 35
        }
      },
      "source": [
        "# printing unique severity values\n",
        "pd.unique(dataset['Severity'])"
      ],
      "execution_count": 7,
      "outputs": [
        {
          "output_type": "execute_result",
          "data": {
            "text/plain": [
              "array(['Mild', 'Moderate', 'Severe'], dtype=object)"
            ]
          },
          "metadata": {
            "tags": []
          },
          "execution_count": 7
        }
      ]
    },
    {
      "cell_type": "code",
      "metadata": {
        "id": "bOxVWzbDUOS2",
        "colab_type": "code",
        "outputId": "6d1e2b9b-edac-467a-9fa5-875f1683af2c",
        "colab": {
          "base_uri": "https://localhost:8080/",
          "height": 35
        }
      },
      "source": [
        "# printing unique contact with covid patient column values\n",
        "pd.unique(dataset['Contact_with_covid_patient'])"
      ],
      "execution_count": 8,
      "outputs": [
        {
          "output_type": "execute_result",
          "data": {
            "text/plain": [
              "array(['No', 'Not known', 'Yes', 'yes'], dtype=object)"
            ]
          },
          "metadata": {
            "tags": []
          },
          "execution_count": 8
        }
      ]
    },
    {
      "cell_type": "code",
      "metadata": {
        "id": "TjKq0BsRUU14",
        "colab_type": "code",
        "colab": {}
      },
      "source": [
        "# converting into lower case\n",
        "dataset['Contact_with_covid_patient'] = dataset['Contact_with_covid_patient'].str.lower()"
      ],
      "execution_count": 0,
      "outputs": []
    },
    {
      "cell_type": "code",
      "metadata": {
        "id": "65A_YlUjUtyu",
        "colab_type": "code",
        "outputId": "b4edead7-ea48-4fb8-fcf9-0edb4cd8ab97",
        "colab": {
          "base_uri": "https://localhost:8080/",
          "height": 35
        }
      },
      "source": [
        "pd.unique(dataset['Contact_with_covid_patient'])"
      ],
      "execution_count": 10,
      "outputs": [
        {
          "output_type": "execute_result",
          "data": {
            "text/plain": [
              "array(['no', 'not known', 'yes'], dtype=object)"
            ]
          },
          "metadata": {
            "tags": []
          },
          "execution_count": 10
        }
      ]
    },
    {
      "cell_type": "code",
      "metadata": {
        "id": "efpclRqWUvZI",
        "colab_type": "code",
        "outputId": "6d5e48d1-466c-4ebe-875f-6c540a71684c",
        "colab": {
          "base_uri": "https://localhost:8080/",
          "height": 243
        }
      },
      "source": [
        "# groupby dataset with countries column and find average fever for each country\n",
        "dataset.groupby('Country')['fever'].mean()"
      ],
      "execution_count": 11,
      "outputs": [
        {
          "output_type": "execute_result",
          "data": {
            "text/plain": [
              "Country\n",
              "Afghanistan    101.000000\n",
              "Albania        100.642857\n",
              "Argentina      101.000000\n",
              "Armenia         99.750000\n",
              "Australia      102.583333\n",
              "                  ...    \n",
              "Ukraine         99.833333\n",
              "Vietnam        100.304348\n",
              "Yemen           99.750000\n",
              "Zambia         101.500000\n",
              "Zimbabwe       100.555556\n",
              "Name: fever, Length: 97, dtype: float64"
            ]
          },
          "metadata": {
            "tags": []
          },
          "execution_count": 11
        }
      ]
    },
    {
      "cell_type": "code",
      "metadata": {
        "id": "et51ehQXVcrW",
        "colab_type": "code",
        "colab": {}
      },
      "source": [
        "# fetching the data of only infected patients\n",
        "infected = dataset[dataset['Infected'] == 1]"
      ],
      "execution_count": 0,
      "outputs": []
    },
    {
      "cell_type": "code",
      "metadata": {
        "id": "CUPmfVpPVor6",
        "colab_type": "code",
        "outputId": "4c066c21-667e-47f5-ef6c-33514eeb0118",
        "colab": {
          "base_uri": "https://localhost:8080/",
          "height": 243
        }
      },
      "source": [
        "# groupby infected people dataset with countries column and find average fever for each country\n",
        "infected.groupby('Country')['fever'].mean()"
      ],
      "execution_count": 13,
      "outputs": [
        {
          "output_type": "execute_result",
          "data": {
            "text/plain": [
              "Country\n",
              "Afghanistan    100.888889\n",
              "Albania        100.555556\n",
              "Argentina      101.666667\n",
              "Armenia        100.235294\n",
              "Australia      102.666667\n",
              "                  ...    \n",
              "Ukraine        100.727273\n",
              "Vietnam        101.093750\n",
              "Yemen          100.000000\n",
              "Zambia         101.571429\n",
              "Zimbabwe       102.181818\n",
              "Name: fever, Length: 94, dtype: float64"
            ]
          },
          "metadata": {
            "tags": []
          },
          "execution_count": 13
        }
      ]
    },
    {
      "cell_type": "code",
      "metadata": {
        "id": "E_7dtQCCVtTO",
        "colab_type": "code",
        "colab": {}
      },
      "source": [
        "# creating object of label encoder\n",
        "gender_label = LabelEncoder()"
      ],
      "execution_count": 0,
      "outputs": []
    },
    {
      "cell_type": "code",
      "metadata": {
        "id": "wwUDMRwHV9QI",
        "colab_type": "code",
        "outputId": "0366b56e-8dc4-45e9-aeb4-67fcc75d1d0f",
        "colab": {
          "base_uri": "https://localhost:8080/",
          "height": 35
        }
      },
      "source": [
        "# using pre-defined method fit_transform which will apply label encoding\n",
        "gender_label.fit_transform(dataset['Gender'])"
      ],
      "execution_count": 15,
      "outputs": [
        {
          "output_type": "execute_result",
          "data": {
            "text/plain": [
              "array([1, 1, 2, ..., 0, 0, 0])"
            ]
          },
          "metadata": {
            "tags": []
          },
          "execution_count": 15
        }
      ]
    },
    {
      "cell_type": "code",
      "metadata": {
        "id": "IFLtevEUbHrg",
        "colab_type": "code",
        "colab": {}
      },
      "source": [
        "gender = gender_label.fit_transform(dataset['Gender'])"
      ],
      "execution_count": 0,
      "outputs": []
    },
    {
      "cell_type": "code",
      "metadata": {
        "id": "kGmbdizgbLaH",
        "colab_type": "code",
        "colab": {}
      },
      "source": [
        "severity_label = LabelEncoder()\n",
        "severity = severity_label.fit_transform(dataset['Severity'])"
      ],
      "execution_count": 0,
      "outputs": []
    },
    {
      "cell_type": "code",
      "metadata": {
        "id": "A4UhMt-ubcQq",
        "colab_type": "code",
        "colab": {}
      },
      "source": [
        "contact_label = LabelEncoder()\n",
        "contact = contact_label.fit_transform(dataset['Contact_with_covid_patient'])"
      ],
      "execution_count": 0,
      "outputs": []
    },
    {
      "cell_type": "code",
      "metadata": {
        "id": "-ZPMRLRhb4tQ",
        "colab_type": "code",
        "outputId": "447d7555-4b3a-4680-e8e5-e786593e784a",
        "colab": {
          "base_uri": "https://localhost:8080/",
          "height": 35
        }
      },
      "source": [
        "severity"
      ],
      "execution_count": 19,
      "outputs": [
        {
          "output_type": "execute_result",
          "data": {
            "text/plain": [
              "array([0, 1, 2, ..., 0, 0, 2])"
            ]
          },
          "metadata": {
            "tags": []
          },
          "execution_count": 19
        }
      ]
    },
    {
      "cell_type": "code",
      "metadata": {
        "id": "G8u8Ze2Fb7BX",
        "colab_type": "code",
        "outputId": "ed7e2214-cd90-458d-bcde-934b8cdd33b6",
        "colab": {
          "base_uri": "https://localhost:8080/",
          "height": 35
        }
      },
      "source": [
        "contact"
      ],
      "execution_count": 20,
      "outputs": [
        {
          "output_type": "execute_result",
          "data": {
            "text/plain": [
              "array([0, 1, 0, ..., 2, 1, 2])"
            ]
          },
          "metadata": {
            "tags": []
          },
          "execution_count": 20
        }
      ]
    },
    {
      "cell_type": "code",
      "metadata": {
        "id": "nG8I6FWBb_Yn",
        "colab_type": "code",
        "colab": {}
      },
      "source": [
        "# creating object of OneHotEncoder\n",
        "gender_onehot = OneHotEncoder()\n",
        "# applying fit_transform method to convert label encoders values into binary\n",
        "gender = gender_onehot.fit_transform(gender.reshape(len(gender),1))"
      ],
      "execution_count": 0,
      "outputs": []
    },
    {
      "cell_type": "code",
      "metadata": {
        "id": "nIif8K16cVvR",
        "colab_type": "code",
        "colab": {}
      },
      "source": [
        "# be default onehot returns sparse matrix, so we need to convert matrix into array\n",
        "gender = gender.toarray()"
      ],
      "execution_count": 0,
      "outputs": []
    },
    {
      "cell_type": "code",
      "metadata": {
        "id": "joyRu1tIceya",
        "colab_type": "code",
        "colab": {}
      },
      "source": [
        "severity_onehot = OneHotEncoder()\n",
        "severity = severity_onehot.fit_transform(severity.reshape(len(severity), 1)).toarray()"
      ],
      "execution_count": 0,
      "outputs": []
    },
    {
      "cell_type": "code",
      "metadata": {
        "id": "0nekju2NdH70",
        "colab_type": "code",
        "colab": {}
      },
      "source": [
        "contact_onehot = OneHotEncoder()\n",
        "contact = contact_onehot.fit_transform(contact.reshape(len(contact),1)).toarray()"
      ],
      "execution_count": 0,
      "outputs": []
    },
    {
      "cell_type": "code",
      "metadata": {
        "id": "BrphZvkcdZph",
        "colab_type": "code",
        "outputId": "0eb6f93c-1d8a-4e12-d378-9987af7f0a6f",
        "colab": {
          "base_uri": "https://localhost:8080/",
          "height": 139
        }
      },
      "source": [
        "contact"
      ],
      "execution_count": 25,
      "outputs": [
        {
          "output_type": "execute_result",
          "data": {
            "text/plain": [
              "array([[1., 0., 0.],\n",
              "       [0., 1., 0.],\n",
              "       [1., 0., 0.],\n",
              "       ...,\n",
              "       [0., 0., 1.],\n",
              "       [0., 1., 0.],\n",
              "       [0., 0., 1.]])"
            ]
          },
          "metadata": {
            "tags": []
          },
          "execution_count": 25
        }
      ]
    },
    {
      "cell_type": "code",
      "metadata": {
        "id": "jBtW18UNda6j",
        "colab_type": "code",
        "colab": {}
      },
      "source": [
        "# dropping gender, severity and contact column with text values, because now we have one hot encoded there values\n",
        "updated_dataset = dataset.drop('Gender', axis=1)"
      ],
      "execution_count": 0,
      "outputs": []
    },
    {
      "cell_type": "code",
      "metadata": {
        "id": "6UGyWH5Mfyyz",
        "colab_type": "code",
        "colab": {}
      },
      "source": [
        "updated_dataset = updated_dataset.drop('Severity', axis=1)\n",
        "updated_dataset = updated_dataset.drop('Contact_with_covid_patient', axis=1)"
      ],
      "execution_count": 0,
      "outputs": []
    },
    {
      "cell_type": "code",
      "metadata": {
        "id": "F7nNu-o_gC5p",
        "colab_type": "code",
        "outputId": "0901d05f-957e-435f-a206-eaaf7dfc7658",
        "colab": {
          "base_uri": "https://localhost:8080/",
          "height": 202
        }
      },
      "source": [
        "updated_dataset.head()"
      ],
      "execution_count": 28,
      "outputs": [
        {
          "output_type": "execute_result",
          "data": {
            "text/html": [
              "<div>\n",
              "<style scoped>\n",
              "    .dataframe tbody tr th:only-of-type {\n",
              "        vertical-align: middle;\n",
              "    }\n",
              "\n",
              "    .dataframe tbody tr th {\n",
              "        vertical-align: top;\n",
              "    }\n",
              "\n",
              "    .dataframe thead th {\n",
              "        text-align: right;\n",
              "    }\n",
              "</style>\n",
              "<table border=\"1\" class=\"dataframe\">\n",
              "  <thead>\n",
              "    <tr style=\"text-align: right;\">\n",
              "      <th></th>\n",
              "      <th>Country</th>\n",
              "      <th>Age</th>\n",
              "      <th>fever</th>\n",
              "      <th>Bodypain</th>\n",
              "      <th>Runny_nose</th>\n",
              "      <th>Difficulty_in_breathing</th>\n",
              "      <th>Nasal_congestion</th>\n",
              "      <th>Sore_throat</th>\n",
              "      <th>Infected</th>\n",
              "    </tr>\n",
              "  </thead>\n",
              "  <tbody>\n",
              "    <tr>\n",
              "      <th>0</th>\n",
              "      <td>China</td>\n",
              "      <td>10</td>\n",
              "      <td>102</td>\n",
              "      <td>1</td>\n",
              "      <td>0</td>\n",
              "      <td>0</td>\n",
              "      <td>0</td>\n",
              "      <td>1</td>\n",
              "      <td>0</td>\n",
              "    </tr>\n",
              "    <tr>\n",
              "      <th>1</th>\n",
              "      <td>Italy</td>\n",
              "      <td>20</td>\n",
              "      <td>103</td>\n",
              "      <td>1</td>\n",
              "      <td>1</td>\n",
              "      <td>0</td>\n",
              "      <td>0</td>\n",
              "      <td>0</td>\n",
              "      <td>1</td>\n",
              "    </tr>\n",
              "    <tr>\n",
              "      <th>2</th>\n",
              "      <td>Iran</td>\n",
              "      <td>55</td>\n",
              "      <td>99</td>\n",
              "      <td>0</td>\n",
              "      <td>0</td>\n",
              "      <td>0</td>\n",
              "      <td>1</td>\n",
              "      <td>1</td>\n",
              "      <td>0</td>\n",
              "    </tr>\n",
              "    <tr>\n",
              "      <th>3</th>\n",
              "      <td>Republic of Korean</td>\n",
              "      <td>37</td>\n",
              "      <td>100</td>\n",
              "      <td>0</td>\n",
              "      <td>1</td>\n",
              "      <td>1</td>\n",
              "      <td>0</td>\n",
              "      <td>0</td>\n",
              "      <td>1</td>\n",
              "    </tr>\n",
              "    <tr>\n",
              "      <th>4</th>\n",
              "      <td>France</td>\n",
              "      <td>45</td>\n",
              "      <td>101</td>\n",
              "      <td>1</td>\n",
              "      <td>1</td>\n",
              "      <td>1</td>\n",
              "      <td>1</td>\n",
              "      <td>0</td>\n",
              "      <td>1</td>\n",
              "    </tr>\n",
              "  </tbody>\n",
              "</table>\n",
              "</div>"
            ],
            "text/plain": [
              "              Country  Age  fever  ...  Nasal_congestion  Sore_throat  Infected\n",
              "0               China   10    102  ...                 0            1         0\n",
              "1               Italy   20    103  ...                 0            0         1\n",
              "2                Iran   55     99  ...                 1            1         0\n",
              "3  Republic of Korean   37    100  ...                 0            0         1\n",
              "4              France   45    101  ...                 1            0         1\n",
              "\n",
              "[5 rows x 9 columns]"
            ]
          },
          "metadata": {
            "tags": []
          },
          "execution_count": 28
        }
      ]
    },
    {
      "cell_type": "code",
      "metadata": {
        "id": "x5hUT0uFgH1o",
        "colab_type": "code",
        "colab": {}
      },
      "source": [
        "# using iloc to slice data from a dataframe...starting from column_1 till last column (last column is exculsive)... 1:-1\n",
        "X = updated_dataset.iloc[:, 1:-1].values\n",
        "y = updated_dataset['Infected'].values"
      ],
      "execution_count": 0,
      "outputs": []
    },
    {
      "cell_type": "code",
      "metadata": {
        "id": "ltDMNfUtgjI5",
        "colab_type": "code",
        "outputId": "5269042e-640a-4966-d7d9-d79ce2b8efb0",
        "colab": {
          "base_uri": "https://localhost:8080/",
          "height": 35
        }
      },
      "source": [
        "X[0]"
      ],
      "execution_count": 30,
      "outputs": [
        {
          "output_type": "execute_result",
          "data": {
            "text/plain": [
              "array([ 10, 102,   1,   0,   0,   0,   1])"
            ]
          },
          "metadata": {
            "tags": []
          },
          "execution_count": 30
        }
      ]
    },
    {
      "cell_type": "code",
      "metadata": {
        "id": "BAN0uLI4gqZy",
        "colab_type": "code",
        "outputId": "3e6fd58c-7bc3-4a85-f7da-cd1f392d6fec",
        "colab": {
          "base_uri": "https://localhost:8080/",
          "height": 35
        }
      },
      "source": [
        "y[0]"
      ],
      "execution_count": 31,
      "outputs": [
        {
          "output_type": "execute_result",
          "data": {
            "text/plain": [
              "0"
            ]
          },
          "metadata": {
            "tags": []
          },
          "execution_count": 31
        }
      ]
    },
    {
      "cell_type": "code",
      "metadata": {
        "id": "ELqCSGvygtSR",
        "colab_type": "code",
        "outputId": "61630c30-4db5-4cb6-a030-5cfe47b815ad",
        "colab": {
          "base_uri": "https://localhost:8080/",
          "height": 35
        }
      },
      "source": [
        "contact.shape"
      ],
      "execution_count": 32,
      "outputs": [
        {
          "output_type": "execute_result",
          "data": {
            "text/plain": [
              "(2499, 3)"
            ]
          },
          "metadata": {
            "tags": []
          },
          "execution_count": 32
        }
      ]
    },
    {
      "cell_type": "code",
      "metadata": {
        "id": "LY9y5u60hAvR",
        "colab_type": "code",
        "outputId": "0a62b128-1ca7-4ab4-f2a0-b85ab49a5d14",
        "colab": {
          "base_uri": "https://localhost:8080/",
          "height": 35
        }
      },
      "source": [
        "severity.shape"
      ],
      "execution_count": 33,
      "outputs": [
        {
          "output_type": "execute_result",
          "data": {
            "text/plain": [
              "(2499, 3)"
            ]
          },
          "metadata": {
            "tags": []
          },
          "execution_count": 33
        }
      ]
    },
    {
      "cell_type": "code",
      "metadata": {
        "id": "x2TF05evhUN7",
        "colab_type": "code",
        "outputId": "a8582789-c23c-437d-bb9f-048d13c974df",
        "colab": {
          "base_uri": "https://localhost:8080/",
          "height": 35
        }
      },
      "source": [
        "gender.shape"
      ],
      "execution_count": 34,
      "outputs": [
        {
          "output_type": "execute_result",
          "data": {
            "text/plain": [
              "(2499, 3)"
            ]
          },
          "metadata": {
            "tags": []
          },
          "execution_count": 34
        }
      ]
    },
    {
      "cell_type": "code",
      "metadata": {
        "id": "qPHOs9W6hXLZ",
        "colab_type": "code",
        "outputId": "c838b77f-eb77-4cdb-bd63-90fc04bbe81e",
        "colab": {
          "base_uri": "https://localhost:8080/",
          "height": 35
        }
      },
      "source": [
        "X.shape"
      ],
      "execution_count": 35,
      "outputs": [
        {
          "output_type": "execute_result",
          "data": {
            "text/plain": [
              "(2499, 7)"
            ]
          },
          "metadata": {
            "tags": []
          },
          "execution_count": 35
        }
      ]
    },
    {
      "cell_type": "code",
      "metadata": {
        "id": "Q7YFtvlYhYlP",
        "colab_type": "code",
        "colab": {}
      },
      "source": [
        "# now concatenating columns with our newly created X variable\n",
        "X = np.c_[X,gender,severity,contact]"
      ],
      "execution_count": 0,
      "outputs": []
    },
    {
      "cell_type": "code",
      "metadata": {
        "id": "6S4XdiYQhevp",
        "colab_type": "code",
        "outputId": "d7eb2fac-e565-4d5b-8dbe-5f8a3c4dbb06",
        "colab": {
          "base_uri": "https://localhost:8080/",
          "height": 35
        }
      },
      "source": [
        "X.shape"
      ],
      "execution_count": 37,
      "outputs": [
        {
          "output_type": "execute_result",
          "data": {
            "text/plain": [
              "(2499, 16)"
            ]
          },
          "metadata": {
            "tags": []
          },
          "execution_count": 37
        }
      ]
    },
    {
      "cell_type": "code",
      "metadata": {
        "id": "3sfHgpmXifIj",
        "colab_type": "code",
        "outputId": "fec86e87-aa03-433e-e6d5-e46cb8bac7d3",
        "colab": {
          "base_uri": "https://localhost:8080/",
          "height": 52
        }
      },
      "source": [
        "X[0]"
      ],
      "execution_count": 38,
      "outputs": [
        {
          "output_type": "execute_result",
          "data": {
            "text/plain": [
              "array([ 10., 102.,   1.,   0.,   0.,   0.,   1.,   0.,   1.,   0.,   1.,\n",
              "         0.,   0.,   1.,   0.,   0.])"
            ]
          },
          "metadata": {
            "tags": []
          },
          "execution_count": 38
        }
      ]
    },
    {
      "cell_type": "code",
      "metadata": {
        "id": "FrWQTWHwhzUo",
        "colab_type": "code",
        "colab": {}
      },
      "source": [
        "# creating object of standard scaler to perform standardization\n",
        "scaler = StandardScaler()\n",
        "X = scaler.fit_transform(X)"
      ],
      "execution_count": 0,
      "outputs": []
    },
    {
      "cell_type": "code",
      "metadata": {
        "id": "x_ma3kUuiimj",
        "colab_type": "code",
        "outputId": "a6021cac-9cbe-4575-d941-2cc0ff8eaf29",
        "colab": {
          "base_uri": "https://localhost:8080/",
          "height": 87
        }
      },
      "source": [
        "X[0]"
      ],
      "execution_count": 40,
      "outputs": [
        {
          "output_type": "execute_result",
          "data": {
            "text/plain": [
              "array([-1.93214208,  0.82660093,  0.73015672, -0.64611936, -0.9688716 ,\n",
              "       -0.94205214,  0.98058068, -0.9673204 ,  0.99401551, -0.11744404,\n",
              "        0.75545367, -0.51571062, -0.42544317,  1.03793388, -0.58243308,\n",
              "       -0.60092521])"
            ]
          },
          "metadata": {
            "tags": []
          },
          "execution_count": 40
        }
      ]
    },
    {
      "cell_type": "code",
      "metadata": {
        "id": "w01oQYLhikMl",
        "colab_type": "code",
        "colab": {}
      },
      "source": [
        "# splitting data into train and test part\n",
        "# 25% data will be used for testing and 75% for training\n",
        "x_train, x_test, y_train, y_test = train_test_split(X,y, test_size = 0.25)"
      ],
      "execution_count": 0,
      "outputs": []
    },
    {
      "cell_type": "code",
      "metadata": {
        "id": "9Ab8dsZ0jUeA",
        "colab_type": "code",
        "outputId": "8483aeea-3275-422e-cfeb-de5b954c80f6",
        "colab": {
          "base_uri": "https://localhost:8080/",
          "height": 35
        }
      },
      "source": [
        "x_train.shape"
      ],
      "execution_count": 42,
      "outputs": [
        {
          "output_type": "execute_result",
          "data": {
            "text/plain": [
              "(1874, 16)"
            ]
          },
          "metadata": {
            "tags": []
          },
          "execution_count": 42
        }
      ]
    },
    {
      "cell_type": "code",
      "metadata": {
        "id": "OCYAJsPNjWUI",
        "colab_type": "code",
        "outputId": "af218085-b5aa-4115-f82f-085b9c6c768d",
        "colab": {
          "base_uri": "https://localhost:8080/",
          "height": 35
        }
      },
      "source": [
        "x_test.shape"
      ],
      "execution_count": 43,
      "outputs": [
        {
          "output_type": "execute_result",
          "data": {
            "text/plain": [
              "(625, 16)"
            ]
          },
          "metadata": {
            "tags": []
          },
          "execution_count": 43
        }
      ]
    },
    {
      "cell_type": "code",
      "metadata": {
        "id": "3JWGoYMPjajx",
        "colab_type": "code",
        "outputId": "88b0a565-a8ff-4ec1-b4fe-d60fe8415717",
        "colab": {
          "base_uri": "https://localhost:8080/",
          "height": 35
        }
      },
      "source": [
        "y_train.shape"
      ],
      "execution_count": 44,
      "outputs": [
        {
          "output_type": "execute_result",
          "data": {
            "text/plain": [
              "(1874,)"
            ]
          },
          "metadata": {
            "tags": []
          },
          "execution_count": 44
        }
      ]
    },
    {
      "cell_type": "code",
      "metadata": {
        "id": "yg2o7uCakCB4",
        "colab_type": "code",
        "outputId": "044cc0db-9d08-4dfa-c5df-2a4fdd2999f7",
        "colab": {
          "base_uri": "https://localhost:8080/",
          "height": 104
        }
      },
      "source": [
        "# applying machine learning..so first we create object of LogisticRegression package provided by sklearn\n",
        "logistic = LogisticRegression()\n",
        "# using fit method, which is pre-defined to perform classification on training data\n",
        "logistic.fit(x_train,y_train)"
      ],
      "execution_count": 45,
      "outputs": [
        {
          "output_type": "execute_result",
          "data": {
            "text/plain": [
              "LogisticRegression(C=1.0, class_weight=None, dual=False, fit_intercept=True,\n",
              "                   intercept_scaling=1, l1_ratio=None, max_iter=100,\n",
              "                   multi_class='auto', n_jobs=None, penalty='l2',\n",
              "                   random_state=None, solver='lbfgs', tol=0.0001, verbose=0,\n",
              "                   warm_start=False)"
            ]
          },
          "metadata": {
            "tags": []
          },
          "execution_count": 45
        }
      ]
    },
    {
      "cell_type": "code",
      "metadata": {
        "id": "nVq-Fnu4lAdZ",
        "colab_type": "code",
        "colab": {}
      },
      "source": [
        "# predict is a pre-defined method which gives the prediction on testing data\n",
        "y_pred = logistic.predict(x_test)"
      ],
      "execution_count": 0,
      "outputs": []
    },
    {
      "cell_type": "code",
      "metadata": {
        "id": "azciVpk2mjRK",
        "colab_type": "code",
        "outputId": "18441b79-7f9b-4cae-83c0-f43fb3d40e08",
        "colab": {
          "base_uri": "https://localhost:8080/",
          "height": 35
        }
      },
      "source": [
        "y_pred[0]"
      ],
      "execution_count": 47,
      "outputs": [
        {
          "output_type": "execute_result",
          "data": {
            "text/plain": [
              "0"
            ]
          },
          "metadata": {
            "tags": []
          },
          "execution_count": 47
        }
      ]
    },
    {
      "cell_type": "code",
      "metadata": {
        "id": "7FIx3Xv_mmvc",
        "colab_type": "code",
        "colab": {}
      },
      "source": [
        "# import confusion matrix to see True Positive, True Negative, False Positive, False Negative\n",
        "from sklearn.metrics import confusion_matrix"
      ],
      "execution_count": 0,
      "outputs": []
    },
    {
      "cell_type": "code",
      "metadata": {
        "id": "xN22-Qd_mtxS",
        "colab_type": "code",
        "outputId": "d3fb4200-1301-47ea-d2a5-81d80810b58e",
        "colab": {
          "base_uri": "https://localhost:8080/",
          "height": 52
        }
      },
      "source": [
        "# just pass actual test targets and predicted targets\n",
        "confusion_matrix(y_test,y_pred)"
      ],
      "execution_count": 49,
      "outputs": [
        {
          "output_type": "execute_result",
          "data": {
            "text/plain": [
              "array([[299,  21],\n",
              "       [ 17, 288]])"
            ]
          },
          "metadata": {
            "tags": []
          },
          "execution_count": 49
        }
      ]
    },
    {
      "cell_type": "code",
      "metadata": {
        "id": "i1ON7esYmxSF",
        "colab_type": "code",
        "outputId": "0b479bce-4e06-405b-814d-0e8113afc763",
        "colab": {
          "base_uri": "https://localhost:8080/",
          "height": 35
        }
      },
      "source": [
        "# similarly we can find accuracy using accuracy_score\n",
        "accuracy_score(y_test, y_pred)"
      ],
      "execution_count": 50,
      "outputs": [
        {
          "output_type": "execute_result",
          "data": {
            "text/plain": [
              "0.9392"
            ]
          },
          "metadata": {
            "tags": []
          },
          "execution_count": 50
        }
      ]
    },
    {
      "cell_type": "code",
      "metadata": {
        "id": "vKcrf4Irm-zp",
        "colab_type": "code",
        "colab": {}
      },
      "source": [
        "# now after applying machine learning we take some data from user to test whether user is infected or not\n",
        "user_age = 23\n",
        "user_gender = 'Male'\n",
        "user_fever = 98\n",
        "user_bodypain = 1\n",
        "user_runny_nose = 1\n",
        "user_breath = 0\n",
        "user_nasal = 0\n",
        "user_throat = 0\n",
        "user_severity = 'Moderate'\n",
        "user_contact = 'yes'"
      ],
      "execution_count": 0,
      "outputs": []
    },
    {
      "cell_type": "code",
      "metadata": {
        "id": "8pMoaZFVnwmV",
        "colab_type": "code",
        "colab": {}
      },
      "source": [
        "# transform all the text columns into one hot encoded\n",
        "gen = gender_onehot.transform([gender_label.transform([user_gender])])\n",
        "sev = severity_onehot.transform([severity_label.transform([user_severity])])\n",
        "con = contact_onehot.transform([contact_label.transform([user_contact])])"
      ],
      "execution_count": 0,
      "outputs": []
    },
    {
      "cell_type": "code",
      "metadata": {
        "id": "ZSWmrRxSoWOn",
        "colab_type": "code",
        "colab": {}
      },
      "source": [
        "# convert into array, because we received sparse matrix\n",
        "gen = gen.toarray()\n",
        "sev = sev.toarray()\n",
        "con = con.toarray()"
      ],
      "execution_count": 0,
      "outputs": []
    },
    {
      "cell_type": "code",
      "metadata": {
        "id": "cZ3VehMzoeaC",
        "colab_type": "code",
        "colab": {}
      },
      "source": [
        "# insert all user variables into a single array\n",
        "test_data = np.array([[user_age, user_fever, user_bodypain,user_runny_nose,user_breath, user_nasal, user_throat]])"
      ],
      "execution_count": 0,
      "outputs": []
    },
    {
      "cell_type": "code",
      "metadata": {
        "id": "mTXMXPGQo0l6",
        "colab_type": "code",
        "colab": {}
      },
      "source": [
        "# concatenate one hot encoded columns at the end\n",
        "test_data = np.c_[test_data, gen, sev, con]"
      ],
      "execution_count": 0,
      "outputs": []
    },
    {
      "cell_type": "code",
      "metadata": {
        "id": "KjyoPqXRo7Ab",
        "colab_type": "code",
        "outputId": "f55d5ac1-cf78-4558-c050-028e935df0c7",
        "colab": {
          "base_uri": "https://localhost:8080/",
          "height": 52
        }
      },
      "source": [
        "test_data"
      ],
      "execution_count": 56,
      "outputs": [
        {
          "output_type": "execute_result",
          "data": {
            "text/plain": [
              "array([[23., 98.,  1.,  1.,  0.,  0.,  0.,  0.,  1.,  0.,  0.,  1.,  0.,\n",
              "         0.,  0.,  1.]])"
            ]
          },
          "metadata": {
            "tags": []
          },
          "execution_count": 56
        }
      ]
    },
    {
      "cell_type": "code",
      "metadata": {
        "id": "cHbx3UGgo_zQ",
        "colab_type": "code",
        "colab": {}
      },
      "source": [
        "# feature scaling for test data\n",
        "test_data = scaler.transform(test_data)"
      ],
      "execution_count": 0,
      "outputs": []
    },
    {
      "cell_type": "code",
      "metadata": {
        "id": "PyIwTa4qpHXH",
        "colab_type": "code",
        "outputId": "41f86a8d-48a4-4b5b-a1c7-c157b1e2311d",
        "colab": {
          "base_uri": "https://localhost:8080/",
          "height": 87
        }
      },
      "source": [
        "test_data"
      ],
      "execution_count": 58,
      "outputs": [
        {
          "output_type": "execute_result",
          "data": {
            "text/plain": [
              "array([[-1.18399548, -1.51145874,  0.73015672,  1.54770166, -0.9688716 ,\n",
              "        -0.94205214, -1.0198039 , -0.9673204 ,  0.99401551, -0.11744404,\n",
              "        -1.32370791,  1.93907194, -0.42544317, -0.96345251, -0.58243308,\n",
              "         1.66410059]])"
            ]
          },
          "metadata": {
            "tags": []
          },
          "execution_count": 58
        }
      ]
    },
    {
      "cell_type": "code",
      "metadata": {
        "id": "C_T_BrLBpIlt",
        "colab_type": "code",
        "outputId": "d8ac71f7-91e7-43dc-dedd-7de5c3780344",
        "colab": {
          "base_uri": "https://localhost:8080/",
          "height": 35
        }
      },
      "source": [
        "# finally do prediction on your testing data\n",
        "# 0 - Not Infected\n",
        "# 1 - Infected\n",
        "logistic.predict(test_data)"
      ],
      "execution_count": 59,
      "outputs": [
        {
          "output_type": "execute_result",
          "data": {
            "text/plain": [
              "array([1])"
            ]
          },
          "metadata": {
            "tags": []
          },
          "execution_count": 59
        }
      ]
    },
    {
      "cell_type": "code",
      "metadata": {
        "id": "oUMQKtBFpNQz",
        "colab_type": "code",
        "outputId": "0ef434d9-8fee-4b35-e6d7-dfe7e6107982",
        "colab": {
          "base_uri": "https://localhost:8080/",
          "height": 35
        }
      },
      "source": [
        "logistic.predict_proba(test_data)"
      ],
      "execution_count": 60,
      "outputs": [
        {
          "output_type": "execute_result",
          "data": {
            "text/plain": [
              "array([[0.00552172, 0.99447828]])"
            ]
          },
          "metadata": {
            "tags": []
          },
          "execution_count": 60
        }
      ]
    },
    {
      "cell_type": "code",
      "metadata": {
        "id": "u85VcJGIpSdi",
        "colab_type": "code",
        "colab": {
          "base_uri": "https://localhost:8080/",
          "height": 87
        },
        "outputId": "adee3f88-884d-46b8-f8b5-dadae4d104ed"
      },
      "source": [
        "# Now test with SVM\n",
        "# by default SVM uses rbf (radial based function kernel trick)\n",
        "svm = SVC()\n",
        "svm.fit(x_train, y_train)"
      ],
      "execution_count": 61,
      "outputs": [
        {
          "output_type": "execute_result",
          "data": {
            "text/plain": [
              "SVC(C=1.0, break_ties=False, cache_size=200, class_weight=None, coef0=0.0,\n",
              "    decision_function_shape='ovr', degree=3, gamma='scale', kernel='rbf',\n",
              "    max_iter=-1, probability=False, random_state=None, shrinking=True,\n",
              "    tol=0.001, verbose=False)"
            ]
          },
          "metadata": {
            "tags": []
          },
          "execution_count": 61
        }
      ]
    },
    {
      "cell_type": "code",
      "metadata": {
        "id": "IANht6UajqiE",
        "colab_type": "code",
        "colab": {}
      },
      "source": [
        "y_pred_svm = svm.predict(x_test)"
      ],
      "execution_count": 0,
      "outputs": []
    },
    {
      "cell_type": "code",
      "metadata": {
        "id": "X3MX_3cSjzYv",
        "colab_type": "code",
        "colab": {
          "base_uri": "https://localhost:8080/",
          "height": 35
        },
        "outputId": "51b7d961-8225-4ed4-e34f-d8b52bcd9db9"
      },
      "source": [
        "# accuracy score using SVM\n",
        "accuracy_score(y_test, y_pred_svm)"
      ],
      "execution_count": 64,
      "outputs": [
        {
          "output_type": "execute_result",
          "data": {
            "text/plain": [
              "0.936"
            ]
          },
          "metadata": {
            "tags": []
          },
          "execution_count": 64
        }
      ]
    },
    {
      "cell_type": "code",
      "metadata": {
        "id": "RivjjfiWj3vx",
        "colab_type": "code",
        "colab": {}
      },
      "source": [
        ""
      ],
      "execution_count": 0,
      "outputs": []
    },
    {
      "cell_type": "code",
      "metadata": {
        "id": "Nv2bw68Akzuf",
        "colab_type": "code",
        "colab": {
          "base_uri": "https://localhost:8080/",
          "height": 265
        },
        "outputId": "6ffdf477-b8fb-4916-e30e-f888db8203a0"
      },
      "source": [
        "# bar plot of infected people\n",
        "plt.bar(infected['Gender'], infected['Age'])\n",
        "plt.show()"
      ],
      "execution_count": 70,
      "outputs": [
        {
          "output_type": "display_data",
          "data": {
            "image/png": "[encoded data removed]",
            "text/plain": [
              "<Figure size 432x288 with 1 Axes>"
            ]
          },
          "metadata": {
            "tags": [],
            "needs_background": "light"
          }
        }
      ]
    },
    {
      "cell_type": "code",
      "metadata": {
        "id": "BLUarVI4lZXk",
        "colab_type": "code",
        "colab": {}
      },
      "source": [
        ""
      ],
      "execution_count": 0,
      "outputs": []
    },
    {
      "cell_type": "code",
      "metadata": {
        "id": "1-NnCQjNlpXE",
        "colab_type": "code",
        "colab": {}
      },
      "source": [
        ""
      ],
      "execution_count": 0,
      "outputs": []
    }
  ]
}