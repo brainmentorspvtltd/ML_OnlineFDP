{
  "nbformat": 4,
  "nbformat_minor": 0,
  "metadata": {
    "colab": {
      "name": "ML_COVID-19.ipynb",
      "provenance": [],
      "collapsed_sections": [],
      "authorship_tag": "ABX9TyOWNvRsG5XaaY7mT9Eu6Y25",
      "include_colab_link": true
    },
    "kernelspec": {
      "name": "python3",
      "display_name": "Python 3"
    }
  },
  "cells": [
    {
      "cell_type": "markdown",
      "metadata": {
        "id": "view-in-github",
        "colab_type": "text"
      },
      "source": [
        "<a href=\"https://colab.research.google.com/github/brainmentorspvtltd/ML_OnlineFDP/blob/master/ML_COVID_19.ipynb\" target=\"_parent\"><img src=\"https://colab.research.google.com/assets/colab-badge.svg\" alt=\"Open In Colab\"/></a>"
      ]
    },
    {
      "cell_type": "code",
      "metadata": {
        "id": "A08NjI7Vq5a1",
        "colab_type": "code",
        "colab": {}
      },
      "source": [
        "import pandas as pd\n",
        "import numpy as np\n",
        "import matplotlib.pyplot as plt\n",
        "from sklearn.preprocessing import StandardScaler, LabelEncoder, OneHotEncoder\n",
        "from sklearn.linear_model import LogisticRegression\n",
        "from sklearn.svm import SVC\n",
        "from sklearn.model_selection import train_test_split\n",
        "from sklearn.metrics import accuracy_score, classification_report"
      ],
      "execution_count": 0,
      "outputs": []
    },
    {
      "cell_type": "code",
      "metadata": {
        "id": "yS509Iqkst7t",
        "colab_type": "code",
        "colab": {}
      },
      "source": [
        "dataset = pd.read_csv('https://raw.githubusercontent.com/brainmentorspvtltd/ML_OnlineFDP/master/covid_19_dataset.csv')"
      ],
      "execution_count": 0,
      "outputs": []
    },
    {
      "cell_type": "code",
      "metadata": {
        "id": "GSulLhXoTEyK",
        "colab_type": "code",
        "colab": {
          "base_uri": "https://localhost:8080/",
          "height": 257
        },
        "outputId": "60574a2a-7237-45eb-87c5-20ac7c36a4fa"
      },
      "source": [
        "dataset.head()"
      ],
      "execution_count": 3,
      "outputs": [
        {
          "output_type": "execute_result",
          "data": {
            "text/html": [
              "<div>\n",
              "<style scoped>\n",
              "    .dataframe tbody tr th:only-of-type {\n",
              "        vertical-align: middle;\n",
              "    }\n",
              "\n",
              "    .dataframe tbody tr th {\n",
              "        vertical-align: top;\n",
              "    }\n",
              "\n",
              "    .dataframe thead th {\n",
              "        text-align: right;\n",
              "    }\n",
              "</style>\n",
              "<table border=\"1\" class=\"dataframe\">\n",
              "  <thead>\n",
              "    <tr style=\"text-align: right;\">\n",
              "      <th></th>\n",
              "      <th>Country</th>\n",
              "      <th>Age</th>\n",
              "      <th>Gender</th>\n",
              "      <th>fever</th>\n",
              "      <th>Bodypain</th>\n",
              "      <th>Runny_nose</th>\n",
              "      <th>Difficulty_in_breathing</th>\n",
              "      <th>Nasal_congestion</th>\n",
              "      <th>Sore_throat</th>\n",
              "      <th>Severity</th>\n",
              "      <th>Contact_with_covid_patient</th>\n",
              "      <th>Infected</th>\n",
              "    </tr>\n",
              "  </thead>\n",
              "  <tbody>\n",
              "    <tr>\n",
              "      <th>0</th>\n",
              "      <td>China</td>\n",
              "      <td>10</td>\n",
              "      <td>Male</td>\n",
              "      <td>102</td>\n",
              "      <td>1</td>\n",
              "      <td>0</td>\n",
              "      <td>0</td>\n",
              "      <td>0</td>\n",
              "      <td>1</td>\n",
              "      <td>Mild</td>\n",
              "      <td>No</td>\n",
              "      <td>0</td>\n",
              "    </tr>\n",
              "    <tr>\n",
              "      <th>1</th>\n",
              "      <td>Italy</td>\n",
              "      <td>20</td>\n",
              "      <td>Male</td>\n",
              "      <td>103</td>\n",
              "      <td>1</td>\n",
              "      <td>1</td>\n",
              "      <td>0</td>\n",
              "      <td>0</td>\n",
              "      <td>0</td>\n",
              "      <td>Moderate</td>\n",
              "      <td>Not known</td>\n",
              "      <td>1</td>\n",
              "    </tr>\n",
              "    <tr>\n",
              "      <th>2</th>\n",
              "      <td>Iran</td>\n",
              "      <td>55</td>\n",
              "      <td>Transgender</td>\n",
              "      <td>99</td>\n",
              "      <td>0</td>\n",
              "      <td>0</td>\n",
              "      <td>0</td>\n",
              "      <td>1</td>\n",
              "      <td>1</td>\n",
              "      <td>Severe</td>\n",
              "      <td>No</td>\n",
              "      <td>0</td>\n",
              "    </tr>\n",
              "    <tr>\n",
              "      <th>3</th>\n",
              "      <td>Republic of Korean</td>\n",
              "      <td>37</td>\n",
              "      <td>Female</td>\n",
              "      <td>100</td>\n",
              "      <td>0</td>\n",
              "      <td>1</td>\n",
              "      <td>1</td>\n",
              "      <td>0</td>\n",
              "      <td>0</td>\n",
              "      <td>Mild</td>\n",
              "      <td>Yes</td>\n",
              "      <td>1</td>\n",
              "    </tr>\n",
              "    <tr>\n",
              "      <th>4</th>\n",
              "      <td>France</td>\n",
              "      <td>45</td>\n",
              "      <td>Male</td>\n",
              "      <td>101</td>\n",
              "      <td>1</td>\n",
              "      <td>1</td>\n",
              "      <td>1</td>\n",
              "      <td>1</td>\n",
              "      <td>0</td>\n",
              "      <td>Moderate</td>\n",
              "      <td>Yes</td>\n",
              "      <td>1</td>\n",
              "    </tr>\n",
              "  </tbody>\n",
              "</table>\n",
              "</div>"
            ],
            "text/plain": [
              "              Country  Age  ... Contact_with_covid_patient  Infected\n",
              "0               China   10  ...                         No         0\n",
              "1               Italy   20  ...                  Not known         1\n",
              "2                Iran   55  ...                         No         0\n",
              "3  Republic of Korean   37  ...                        Yes         1\n",
              "4              France   45  ...                        Yes         1\n",
              "\n",
              "[5 rows x 12 columns]"
            ]
          },
          "metadata": {
            "tags": []
          },
          "execution_count": 3
        }
      ]
    },
    {
      "cell_type": "code",
      "metadata": {
        "id": "DPoU0-5CTGRv",
        "colab_type": "code",
        "colab": {
          "base_uri": "https://localhost:8080/",
          "height": 312
        },
        "outputId": "d8a2631f-abfc-4736-f46d-da3690d6cb74"
      },
      "source": [
        "pd.unique(dataset['Country'])"
      ],
      "execution_count": 4,
      "outputs": [
        {
          "output_type": "execute_result",
          "data": {
            "text/plain": [
              "array(['China', 'Italy', 'Iran', 'Republic of Korean', 'France', 'Spain',\n",
              "       'Germany', 'UAE', 'Russia', 'Canada', 'Netherlands', 'Mexico',\n",
              "       'Pakistan', 'Chile', 'Sweden', 'Peru', 'Ireland', 'Singapore',\n",
              "       'Turkey', 'India', 'Australia', 'Malaysia', 'Argentina', 'Kuwait',\n",
              "       'Morocco', 'Afghanistan', 'Finland', 'Norway', 'Bangladesh',\n",
              "       'South Korea', 'Indonesia', 'Denmark', 'Romania', 'Ukraine',\n",
              "       'Serbia', 'USA', 'Egypt', 'Thailand', 'Iraq', 'New Zealand',\n",
              "       'Japan', 'South Africa', 'Slovakia', 'Somalia', 'Sri Lanka',\n",
              "       'Oman', 'Belgium', 'Kazakhstan', 'Bahrain', 'Nigeria', 'Hungary',\n",
              "       'Philippines', 'Armenia', 'Bulgaria', 'Cuba', 'Sudan', 'Estoria',\n",
              "       'CostaRica', 'Gabon', 'Maldives', 'Albania', 'Cyprus', 'Kenya',\n",
              "       'Georgia', 'Jordan', 'SanMario', 'Malta', 'Taiwan', 'Mauritius',\n",
              "       'Congo', 'Vietnam', 'Zambia', 'Haiti', 'Liberia', 'Nepal', 'Togo',\n",
              "       'Myanmar', 'Cambodia', 'Uganda', 'Bermuda', 'Monaco', 'Barbados',\n",
              "       'Yemen', 'Syria', 'Mongolia', 'Zimbabwe', 'Fiji', 'Bhutan',\n",
              "       'Greenland', 'Poland', 'Israel', 'Austria', 'Czechia', 'Panama',\n",
              "       'Switzerland', 'Ghana', 'Moldova'], dtype=object)"
            ]
          },
          "metadata": {
            "tags": []
          },
          "execution_count": 4
        }
      ]
    },
    {
      "cell_type": "code",
      "metadata": {
        "id": "XK9AQ8XDT0V3",
        "colab_type": "code",
        "colab": {
          "base_uri": "https://localhost:8080/",
          "height": 35
        },
        "outputId": "2631fe56-654e-4040-a999-4ad0c58ab008"
      },
      "source": [
        "len(pd.unique(dataset['Country']))"
      ],
      "execution_count": 5,
      "outputs": [
        {
          "output_type": "execute_result",
          "data": {
            "text/plain": [
              "97"
            ]
          },
          "metadata": {
            "tags": []
          },
          "execution_count": 5
        }
      ]
    },
    {
      "cell_type": "code",
      "metadata": {
        "id": "AC5pcM_LT35f",
        "colab_type": "code",
        "colab": {
          "base_uri": "https://localhost:8080/",
          "height": 35
        },
        "outputId": "1f41e4a7-40f2-42dc-de3c-3481802c9c1a"
      },
      "source": [
        "pd.unique(dataset['Gender'])"
      ],
      "execution_count": 6,
      "outputs": [
        {
          "output_type": "execute_result",
          "data": {
            "text/plain": [
              "array(['Male', 'Transgender', 'Female'], dtype=object)"
            ]
          },
          "metadata": {
            "tags": []
          },
          "execution_count": 6
        }
      ]
    },
    {
      "cell_type": "code",
      "metadata": {
        "id": "dbMjFDvWUEBH",
        "colab_type": "code",
        "colab": {
          "base_uri": "https://localhost:8080/",
          "height": 35
        },
        "outputId": "612694d7-4673-42a1-b8ee-5e430248a431"
      },
      "source": [
        "pd.unique(dataset['Severity'])"
      ],
      "execution_count": 7,
      "outputs": [
        {
          "output_type": "execute_result",
          "data": {
            "text/plain": [
              "array(['Mild', 'Moderate', 'Severe'], dtype=object)"
            ]
          },
          "metadata": {
            "tags": []
          },
          "execution_count": 7
        }
      ]
    },
    {
      "cell_type": "code",
      "metadata": {
        "id": "bOxVWzbDUOS2",
        "colab_type": "code",
        "colab": {
          "base_uri": "https://localhost:8080/",
          "height": 35
        },
        "outputId": "1591f428-d10f-4d45-cfc5-a522c719ff28"
      },
      "source": [
        "pd.unique(dataset['Contact_with_covid_patient'])"
      ],
      "execution_count": 8,
      "outputs": [
        {
          "output_type": "execute_result",
          "data": {
            "text/plain": [
              "array(['No', 'Not known', 'Yes', 'yes'], dtype=object)"
            ]
          },
          "metadata": {
            "tags": []
          },
          "execution_count": 8
        }
      ]
    },
    {
      "cell_type": "code",
      "metadata": {
        "id": "TjKq0BsRUU14",
        "colab_type": "code",
        "colab": {}
      },
      "source": [
        "dataset['Contact_with_covid_patient'] = dataset['Contact_with_covid_patient'].str.lower()"
      ],
      "execution_count": 0,
      "outputs": []
    },
    {
      "cell_type": "code",
      "metadata": {
        "id": "65A_YlUjUtyu",
        "colab_type": "code",
        "colab": {
          "base_uri": "https://localhost:8080/",
          "height": 35
        },
        "outputId": "4c6027a9-116e-4c11-b0be-c230f473ebe0"
      },
      "source": [
        "pd.unique(dataset['Contact_with_covid_patient'])"
      ],
      "execution_count": 10,
      "outputs": [
        {
          "output_type": "execute_result",
          "data": {
            "text/plain": [
              "array(['no', 'not known', 'yes'], dtype=object)"
            ]
          },
          "metadata": {
            "tags": []
          },
          "execution_count": 10
        }
      ]
    },
    {
      "cell_type": "code",
      "metadata": {
        "id": "efpclRqWUvZI",
        "colab_type": "code",
        "colab": {
          "base_uri": "https://localhost:8080/",
          "height": 243
        },
        "outputId": "11a0cb32-47e3-48c7-8843-eca8ba1fbe5f"
      },
      "source": [
        "dataset.groupby('Country')['fever'].mean()"
      ],
      "execution_count": 11,
      "outputs": [
        {
          "output_type": "execute_result",
          "data": {
            "text/plain": [
              "Country\n",
              "Afghanistan    101.000000\n",
              "Albania        100.642857\n",
              "Argentina      101.000000\n",
              "Armenia         99.750000\n",
              "Australia      102.583333\n",
              "                  ...    \n",
              "Ukraine         99.833333\n",
              "Vietnam        100.304348\n",
              "Yemen           99.750000\n",
              "Zambia         101.500000\n",
              "Zimbabwe       100.555556\n",
              "Name: fever, Length: 97, dtype: float64"
            ]
          },
          "metadata": {
            "tags": []
          },
          "execution_count": 11
        }
      ]
    },
    {
      "cell_type": "code",
      "metadata": {
        "id": "et51ehQXVcrW",
        "colab_type": "code",
        "colab": {}
      },
      "source": [
        "infected = dataset[dataset['Infected'] == 1]"
      ],
      "execution_count": 0,
      "outputs": []
    },
    {
      "cell_type": "code",
      "metadata": {
        "id": "CUPmfVpPVor6",
        "colab_type": "code",
        "colab": {
          "base_uri": "https://localhost:8080/",
          "height": 243
        },
        "outputId": "bc4a9397-bfd3-45fd-cda5-f0f31ea00925"
      },
      "source": [
        "infected.groupby('Country')['fever'].mean()"
      ],
      "execution_count": 13,
      "outputs": [
        {
          "output_type": "execute_result",
          "data": {
            "text/plain": [
              "Country\n",
              "Afghanistan    100.888889\n",
              "Albania        100.555556\n",
              "Argentina      101.666667\n",
              "Armenia        100.235294\n",
              "Australia      102.666667\n",
              "                  ...    \n",
              "Ukraine        100.727273\n",
              "Vietnam        101.093750\n",
              "Yemen          100.000000\n",
              "Zambia         101.571429\n",
              "Zimbabwe       102.181818\n",
              "Name: fever, Length: 94, dtype: float64"
            ]
          },
          "metadata": {
            "tags": []
          },
          "execution_count": 13
        }
      ]
    },
    {
      "cell_type": "code",
      "metadata": {
        "id": "E_7dtQCCVtTO",
        "colab_type": "code",
        "colab": {}
      },
      "source": [
        "gender_label = LabelEncoder()"
      ],
      "execution_count": 0,
      "outputs": []
    },
    {
      "cell_type": "code",
      "metadata": {
        "id": "wwUDMRwHV9QI",
        "colab_type": "code",
        "colab": {
          "base_uri": "https://localhost:8080/",
          "height": 35
        },
        "outputId": "095d45f7-17ee-4f5e-ff10-eeeea7e23d37"
      },
      "source": [
        "gender_label.fit_transform(dataset['Gender'])"
      ],
      "execution_count": 23,
      "outputs": [
        {
          "output_type": "execute_result",
          "data": {
            "text/plain": [
              "array([1, 1, 2, ..., 0, 0, 0])"
            ]
          },
          "metadata": {
            "tags": []
          },
          "execution_count": 23
        }
      ]
    },
    {
      "cell_type": "code",
      "metadata": {
        "id": "IFLtevEUbHrg",
        "colab_type": "code",
        "colab": {}
      },
      "source": [
        "gender = gender_label.fit_transform(dataset['Gender'])"
      ],
      "execution_count": 0,
      "outputs": []
    },
    {
      "cell_type": "code",
      "metadata": {
        "id": "kGmbdizgbLaH",
        "colab_type": "code",
        "colab": {}
      },
      "source": [
        "severity_label = LabelEncoder()\n",
        "severity = severity_label.fit_transform(dataset['Severity'])"
      ],
      "execution_count": 0,
      "outputs": []
    },
    {
      "cell_type": "code",
      "metadata": {
        "id": "A4UhMt-ubcQq",
        "colab_type": "code",
        "colab": {}
      },
      "source": [
        "contact_label = LabelEncoder()\n",
        "contact = contact_label.fit_transform(dataset['Contact_with_covid_patient'])"
      ],
      "execution_count": 0,
      "outputs": []
    },
    {
      "cell_type": "code",
      "metadata": {
        "id": "-ZPMRLRhb4tQ",
        "colab_type": "code",
        "colab": {
          "base_uri": "https://localhost:8080/",
          "height": 35
        },
        "outputId": "c0ad14f7-cb13-4be0-cfd3-9f48ec30dfdb"
      },
      "source": [
        "severity"
      ],
      "execution_count": 27,
      "outputs": [
        {
          "output_type": "execute_result",
          "data": {
            "text/plain": [
              "array([0, 1, 2, ..., 0, 0, 2])"
            ]
          },
          "metadata": {
            "tags": []
          },
          "execution_count": 27
        }
      ]
    },
    {
      "cell_type": "code",
      "metadata": {
        "id": "G8u8Ze2Fb7BX",
        "colab_type": "code",
        "colab": {
          "base_uri": "https://localhost:8080/",
          "height": 35
        },
        "outputId": "f75a897b-1267-402c-b7f5-c2a1ca5cfffe"
      },
      "source": [
        "contact"
      ],
      "execution_count": 28,
      "outputs": [
        {
          "output_type": "execute_result",
          "data": {
            "text/plain": [
              "array([0, 1, 0, ..., 2, 1, 2])"
            ]
          },
          "metadata": {
            "tags": []
          },
          "execution_count": 28
        }
      ]
    },
    {
      "cell_type": "code",
      "metadata": {
        "id": "nG8I6FWBb_Yn",
        "colab_type": "code",
        "colab": {}
      },
      "source": [
        "gender_onehot = OneHotEncoder()\n",
        "gender = gender_onehot.fit_transform(gender.reshape(len(gender),1))"
      ],
      "execution_count": 0,
      "outputs": []
    },
    {
      "cell_type": "code",
      "metadata": {
        "id": "nIif8K16cVvR",
        "colab_type": "code",
        "colab": {}
      },
      "source": [
        "gender = gender.toarray()"
      ],
      "execution_count": 0,
      "outputs": []
    },
    {
      "cell_type": "code",
      "metadata": {
        "id": "joyRu1tIceya",
        "colab_type": "code",
        "colab": {}
      },
      "source": [
        "severity_onehot = OneHotEncoder()\n",
        "severity = severity_onehot.fit_transform(severity.reshape(len(severity), 1)).toarray()"
      ],
      "execution_count": 0,
      "outputs": []
    },
    {
      "cell_type": "code",
      "metadata": {
        "id": "0nekju2NdH70",
        "colab_type": "code",
        "colab": {}
      },
      "source": [
        "contact_onehot = OneHotEncoder()\n",
        "contact = contact_onehot.fit_transform(contact.reshape(len(contact),1)).toarray()"
      ],
      "execution_count": 0,
      "outputs": []
    },
    {
      "cell_type": "code",
      "metadata": {
        "id": "BrphZvkcdZph",
        "colab_type": "code",
        "colab": {
          "base_uri": "https://localhost:8080/",
          "height": 139
        },
        "outputId": "d11fdf45-1326-4040-b2ae-2d2c84004dd5"
      },
      "source": [
        "contact"
      ],
      "execution_count": 36,
      "outputs": [
        {
          "output_type": "execute_result",
          "data": {
            "text/plain": [
              "array([[1., 0., 0.],\n",
              "       [0., 1., 0.],\n",
              "       [1., 0., 0.],\n",
              "       ...,\n",
              "       [0., 0., 1.],\n",
              "       [0., 1., 0.],\n",
              "       [0., 0., 1.]])"
            ]
          },
          "metadata": {
            "tags": []
          },
          "execution_count": 36
        }
      ]
    },
    {
      "cell_type": "code",
      "metadata": {
        "id": "jBtW18UNda6j",
        "colab_type": "code",
        "colab": {}
      },
      "source": [
        "updated_dataset = dataset.drop('Gender', axis=1)"
      ],
      "execution_count": 0,
      "outputs": []
    },
    {
      "cell_type": "code",
      "metadata": {
        "id": "6UGyWH5Mfyyz",
        "colab_type": "code",
        "colab": {}
      },
      "source": [
        "updated_dataset = updated_dataset.drop('Severity', axis=1)\n",
        "updated_dataset = updated_dataset.drop('Contact_with_covid_patient', axis=1)"
      ],
      "execution_count": 0,
      "outputs": []
    },
    {
      "cell_type": "code",
      "metadata": {
        "id": "F7nNu-o_gC5p",
        "colab_type": "code",
        "colab": {
          "base_uri": "https://localhost:8080/",
          "height": 202
        },
        "outputId": "10d56e48-f31b-4ef1-e59b-b7d0bde8fb2d"
      },
      "source": [
        "updated_dataset.head()"
      ],
      "execution_count": 39,
      "outputs": [
        {
          "output_type": "execute_result",
          "data": {
            "text/html": [
              "<div>\n",
              "<style scoped>\n",
              "    .dataframe tbody tr th:only-of-type {\n",
              "        vertical-align: middle;\n",
              "    }\n",
              "\n",
              "    .dataframe tbody tr th {\n",
              "        vertical-align: top;\n",
              "    }\n",
              "\n",
              "    .dataframe thead th {\n",
              "        text-align: right;\n",
              "    }\n",
              "</style>\n",
              "<table border=\"1\" class=\"dataframe\">\n",
              "  <thead>\n",
              "    <tr style=\"text-align: right;\">\n",
              "      <th></th>\n",
              "      <th>Country</th>\n",
              "      <th>Age</th>\n",
              "      <th>fever</th>\n",
              "      <th>Bodypain</th>\n",
              "      <th>Runny_nose</th>\n",
              "      <th>Difficulty_in_breathing</th>\n",
              "      <th>Nasal_congestion</th>\n",
              "      <th>Sore_throat</th>\n",
              "      <th>Infected</th>\n",
              "    </tr>\n",
              "  </thead>\n",
              "  <tbody>\n",
              "    <tr>\n",
              "      <th>0</th>\n",
              "      <td>China</td>\n",
              "      <td>10</td>\n",
              "      <td>102</td>\n",
              "      <td>1</td>\n",
              "      <td>0</td>\n",
              "      <td>0</td>\n",
              "      <td>0</td>\n",
              "      <td>1</td>\n",
              "      <td>0</td>\n",
              "    </tr>\n",
              "    <tr>\n",
              "      <th>1</th>\n",
              "      <td>Italy</td>\n",
              "      <td>20</td>\n",
              "      <td>103</td>\n",
              "      <td>1</td>\n",
              "      <td>1</td>\n",
              "      <td>0</td>\n",
              "      <td>0</td>\n",
              "      <td>0</td>\n",
              "      <td>1</td>\n",
              "    </tr>\n",
              "    <tr>\n",
              "      <th>2</th>\n",
              "      <td>Iran</td>\n",
              "      <td>55</td>\n",
              "      <td>99</td>\n",
              "      <td>0</td>\n",
              "      <td>0</td>\n",
              "      <td>0</td>\n",
              "      <td>1</td>\n",
              "      <td>1</td>\n",
              "      <td>0</td>\n",
              "    </tr>\n",
              "    <tr>\n",
              "      <th>3</th>\n",
              "      <td>Republic of Korean</td>\n",
              "      <td>37</td>\n",
              "      <td>100</td>\n",
              "      <td>0</td>\n",
              "      <td>1</td>\n",
              "      <td>1</td>\n",
              "      <td>0</td>\n",
              "      <td>0</td>\n",
              "      <td>1</td>\n",
              "    </tr>\n",
              "    <tr>\n",
              "      <th>4</th>\n",
              "      <td>France</td>\n",
              "      <td>45</td>\n",
              "      <td>101</td>\n",
              "      <td>1</td>\n",
              "      <td>1</td>\n",
              "      <td>1</td>\n",
              "      <td>1</td>\n",
              "      <td>0</td>\n",
              "      <td>1</td>\n",
              "    </tr>\n",
              "  </tbody>\n",
              "</table>\n",
              "</div>"
            ],
            "text/plain": [
              "              Country  Age  fever  ...  Nasal_congestion  Sore_throat  Infected\n",
              "0               China   10    102  ...                 0            1         0\n",
              "1               Italy   20    103  ...                 0            0         1\n",
              "2                Iran   55     99  ...                 1            1         0\n",
              "3  Republic of Korean   37    100  ...                 0            0         1\n",
              "4              France   45    101  ...                 1            0         1\n",
              "\n",
              "[5 rows x 9 columns]"
            ]
          },
          "metadata": {
            "tags": []
          },
          "execution_count": 39
        }
      ]
    },
    {
      "cell_type": "code",
      "metadata": {
        "id": "x5hUT0uFgH1o",
        "colab_type": "code",
        "colab": {}
      },
      "source": [
        "X = updated_dataset.iloc[:, 1:-1].values\n",
        "y = updated_dataset['Infected'].values"
      ],
      "execution_count": 0,
      "outputs": []
    },
    {
      "cell_type": "code",
      "metadata": {
        "id": "ltDMNfUtgjI5",
        "colab_type": "code",
        "colab": {
          "base_uri": "https://localhost:8080/",
          "height": 35
        },
        "outputId": "22df5b12-2dd7-4838-cc3f-76afdc176ac1"
      },
      "source": [
        "X[0]"
      ],
      "execution_count": 41,
      "outputs": [
        {
          "output_type": "execute_result",
          "data": {
            "text/plain": [
              "array([ 10, 102,   1,   0,   0,   0,   1])"
            ]
          },
          "metadata": {
            "tags": []
          },
          "execution_count": 41
        }
      ]
    },
    {
      "cell_type": "code",
      "metadata": {
        "id": "BAN0uLI4gqZy",
        "colab_type": "code",
        "colab": {
          "base_uri": "https://localhost:8080/",
          "height": 35
        },
        "outputId": "1f93b6ae-b997-49ad-d08b-7fdacd8a10e3"
      },
      "source": [
        "y[0]"
      ],
      "execution_count": 42,
      "outputs": [
        {
          "output_type": "execute_result",
          "data": {
            "text/plain": [
              "0"
            ]
          },
          "metadata": {
            "tags": []
          },
          "execution_count": 42
        }
      ]
    },
    {
      "cell_type": "code",
      "metadata": {
        "id": "ELqCSGvygtSR",
        "colab_type": "code",
        "colab": {
          "base_uri": "https://localhost:8080/",
          "height": 35
        },
        "outputId": "7632c5ba-562d-4812-e035-24a1e05693b9"
      },
      "source": [
        "contact.shape"
      ],
      "execution_count": 44,
      "outputs": [
        {
          "output_type": "execute_result",
          "data": {
            "text/plain": [
              "(2499, 3)"
            ]
          },
          "metadata": {
            "tags": []
          },
          "execution_count": 44
        }
      ]
    },
    {
      "cell_type": "code",
      "metadata": {
        "id": "LY9y5u60hAvR",
        "colab_type": "code",
        "colab": {
          "base_uri": "https://localhost:8080/",
          "height": 35
        },
        "outputId": "1e4d4c9c-a79f-465f-867b-0a9c7923d55f"
      },
      "source": [
        "severity.shape"
      ],
      "execution_count": 45,
      "outputs": [
        {
          "output_type": "execute_result",
          "data": {
            "text/plain": [
              "(2499, 3)"
            ]
          },
          "metadata": {
            "tags": []
          },
          "execution_count": 45
        }
      ]
    },
    {
      "cell_type": "code",
      "metadata": {
        "id": "x2TF05evhUN7",
        "colab_type": "code",
        "colab": {
          "base_uri": "https://localhost:8080/",
          "height": 35
        },
        "outputId": "06d2e323-3651-44a9-b2b2-26be2de77fb3"
      },
      "source": [
        "gender.shape"
      ],
      "execution_count": 46,
      "outputs": [
        {
          "output_type": "execute_result",
          "data": {
            "text/plain": [
              "(2499, 3)"
            ]
          },
          "metadata": {
            "tags": []
          },
          "execution_count": 46
        }
      ]
    },
    {
      "cell_type": "code",
      "metadata": {
        "id": "qPHOs9W6hXLZ",
        "colab_type": "code",
        "colab": {
          "base_uri": "https://localhost:8080/",
          "height": 35
        },
        "outputId": "8b523d76-4b42-4bd1-e0b2-1ec08d853019"
      },
      "source": [
        "X.shape"
      ],
      "execution_count": 47,
      "outputs": [
        {
          "output_type": "execute_result",
          "data": {
            "text/plain": [
              "(2499, 7)"
            ]
          },
          "metadata": {
            "tags": []
          },
          "execution_count": 47
        }
      ]
    },
    {
      "cell_type": "code",
      "metadata": {
        "id": "Q7YFtvlYhYlP",
        "colab_type": "code",
        "colab": {}
      },
      "source": [
        "X = np.c_[X,gender,severity,contact]"
      ],
      "execution_count": 0,
      "outputs": []
    },
    {
      "cell_type": "code",
      "metadata": {
        "id": "6S4XdiYQhevp",
        "colab_type": "code",
        "colab": {
          "base_uri": "https://localhost:8080/",
          "height": 35
        },
        "outputId": "3a8a2dc9-c8a8-4e8b-eda9-a597c6748ce6"
      },
      "source": [
        "X.shape"
      ],
      "execution_count": 51,
      "outputs": [
        {
          "output_type": "execute_result",
          "data": {
            "text/plain": [
              "(2499, 16)"
            ]
          },
          "metadata": {
            "tags": []
          },
          "execution_count": 51
        }
      ]
    },
    {
      "cell_type": "code",
      "metadata": {
        "id": "3sfHgpmXifIj",
        "colab_type": "code",
        "colab": {
          "base_uri": "https://localhost:8080/",
          "height": 52
        },
        "outputId": "4e7aa668-1c22-40ae-e3ea-ac18e2c74c50"
      },
      "source": [
        "X[0]"
      ],
      "execution_count": 52,
      "outputs": [
        {
          "output_type": "execute_result",
          "data": {
            "text/plain": [
              "array([ 10., 102.,   1.,   0.,   0.,   0.,   1.,   0.,   1.,   0.,   1.,\n",
              "         0.,   0.,   1.,   0.,   0.])"
            ]
          },
          "metadata": {
            "tags": []
          },
          "execution_count": 52
        }
      ]
    },
    {
      "cell_type": "code",
      "metadata": {
        "id": "FrWQTWHwhzUo",
        "colab_type": "code",
        "colab": {}
      },
      "source": [
        "scaler = StandardScaler()\n",
        "X = scaler.fit_transform(X)"
      ],
      "execution_count": 0,
      "outputs": []
    },
    {
      "cell_type": "code",
      "metadata": {
        "id": "x_ma3kUuiimj",
        "colab_type": "code",
        "colab": {
          "base_uri": "https://localhost:8080/",
          "height": 87
        },
        "outputId": "a6e5ac69-16f9-4ee3-c8f3-998340feae02"
      },
      "source": [
        "X[0]"
      ],
      "execution_count": 54,
      "outputs": [
        {
          "output_type": "execute_result",
          "data": {
            "text/plain": [
              "array([-1.93214208,  0.82660093,  0.73015672, -0.64611936, -0.9688716 ,\n",
              "       -0.94205214,  0.98058068, -0.9673204 ,  0.99401551, -0.11744404,\n",
              "        0.75545367, -0.51571062, -0.42544317,  1.03793388, -0.58243308,\n",
              "       -0.60092521])"
            ]
          },
          "metadata": {
            "tags": []
          },
          "execution_count": 54
        }
      ]
    },
    {
      "cell_type": "code",
      "metadata": {
        "id": "w01oQYLhikMl",
        "colab_type": "code",
        "colab": {}
      },
      "source": [
        "x_train, x_test, y_train, y_test = train_test_split(X,y, test_size = 0.25)"
      ],
      "execution_count": 0,
      "outputs": []
    },
    {
      "cell_type": "code",
      "metadata": {
        "id": "9Ab8dsZ0jUeA",
        "colab_type": "code",
        "colab": {
          "base_uri": "https://localhost:8080/",
          "height": 35
        },
        "outputId": "d7e1a71f-dfdc-4051-93b7-f06241c8183f"
      },
      "source": [
        "x_train.shape"
      ],
      "execution_count": 56,
      "outputs": [
        {
          "output_type": "execute_result",
          "data": {
            "text/plain": [
              "(1874, 16)"
            ]
          },
          "metadata": {
            "tags": []
          },
          "execution_count": 56
        }
      ]
    },
    {
      "cell_type": "code",
      "metadata": {
        "id": "OCYAJsPNjWUI",
        "colab_type": "code",
        "colab": {
          "base_uri": "https://localhost:8080/",
          "height": 35
        },
        "outputId": "a1d9ba25-36be-4398-ebca-0d4e87d3c0ea"
      },
      "source": [
        "x_test.shape"
      ],
      "execution_count": 57,
      "outputs": [
        {
          "output_type": "execute_result",
          "data": {
            "text/plain": [
              "(625, 16)"
            ]
          },
          "metadata": {
            "tags": []
          },
          "execution_count": 57
        }
      ]
    },
    {
      "cell_type": "code",
      "metadata": {
        "id": "3JWGoYMPjajx",
        "colab_type": "code",
        "colab": {
          "base_uri": "https://localhost:8080/",
          "height": 35
        },
        "outputId": "c30d0908-06b4-4510-e0cd-a6234a423190"
      },
      "source": [
        "y_train.shape"
      ],
      "execution_count": 58,
      "outputs": [
        {
          "output_type": "execute_result",
          "data": {
            "text/plain": [
              "(1874,)"
            ]
          },
          "metadata": {
            "tags": []
          },
          "execution_count": 58
        }
      ]
    },
    {
      "cell_type": "code",
      "metadata": {
        "id": "yg2o7uCakCB4",
        "colab_type": "code",
        "colab": {
          "base_uri": "https://localhost:8080/",
          "height": 104
        },
        "outputId": "08656ebd-039d-4ca0-f920-22f8740e49cb"
      },
      "source": [
        "logistic = LogisticRegression()\n",
        "logistic.fit(x_train,y_train)"
      ],
      "execution_count": 59,
      "outputs": [
        {
          "output_type": "execute_result",
          "data": {
            "text/plain": [
              "LogisticRegression(C=1.0, class_weight=None, dual=False, fit_intercept=True,\n",
              "                   intercept_scaling=1, l1_ratio=None, max_iter=100,\n",
              "                   multi_class='auto', n_jobs=None, penalty='l2',\n",
              "                   random_state=None, solver='lbfgs', tol=0.0001, verbose=0,\n",
              "                   warm_start=False)"
            ]
          },
          "metadata": {
            "tags": []
          },
          "execution_count": 59
        }
      ]
    },
    {
      "cell_type": "code",
      "metadata": {
        "id": "nVq-Fnu4lAdZ",
        "colab_type": "code",
        "colab": {}
      },
      "source": [
        "y_pred = logistic.predict(x_test)"
      ],
      "execution_count": 0,
      "outputs": []
    },
    {
      "cell_type": "code",
      "metadata": {
        "id": "azciVpk2mjRK",
        "colab_type": "code",
        "colab": {
          "base_uri": "https://localhost:8080/",
          "height": 35
        },
        "outputId": "1f90092d-b0db-46b1-d8f1-1226d7e39a1b"
      },
      "source": [
        "y_pred[0]"
      ],
      "execution_count": 61,
      "outputs": [
        {
          "output_type": "execute_result",
          "data": {
            "text/plain": [
              "1"
            ]
          },
          "metadata": {
            "tags": []
          },
          "execution_count": 61
        }
      ]
    },
    {
      "cell_type": "code",
      "metadata": {
        "id": "7FIx3Xv_mmvc",
        "colab_type": "code",
        "colab": {}
      },
      "source": [
        "from sklearn.metrics import confusion_matrix"
      ],
      "execution_count": 0,
      "outputs": []
    },
    {
      "cell_type": "code",
      "metadata": {
        "id": "xN22-Qd_mtxS",
        "colab_type": "code",
        "colab": {
          "base_uri": "https://localhost:8080/",
          "height": 52
        },
        "outputId": "b60b8d65-3b7a-4066-813d-d04df48b8893"
      },
      "source": [
        "confusion_matrix(y_test,y_pred)"
      ],
      "execution_count": 63,
      "outputs": [
        {
          "output_type": "execute_result",
          "data": {
            "text/plain": [
              "array([[296,  21],\n",
              "       [ 16, 292]])"
            ]
          },
          "metadata": {
            "tags": []
          },
          "execution_count": 63
        }
      ]
    },
    {
      "cell_type": "code",
      "metadata": {
        "id": "i1ON7esYmxSF",
        "colab_type": "code",
        "colab": {
          "base_uri": "https://localhost:8080/",
          "height": 35
        },
        "outputId": "2607b160-ab28-4b86-898c-e0aeddaa765b"
      },
      "source": [
        "accuracy_score(y_test, y_pred)"
      ],
      "execution_count": 64,
      "outputs": [
        {
          "output_type": "execute_result",
          "data": {
            "text/plain": [
              "0.9408"
            ]
          },
          "metadata": {
            "tags": []
          },
          "execution_count": 64
        }
      ]
    },
    {
      "cell_type": "code",
      "metadata": {
        "id": "vKcrf4Irm-zp",
        "colab_type": "code",
        "colab": {}
      },
      "source": [
        "user_age = 23\n",
        "user_gender = 'Male'\n",
        "user_fever = 98\n",
        "user_bodypain = 1\n",
        "user_runny_nose = 1\n",
        "user_breath = 0\n",
        "user_nasal = 0\n",
        "user_throat = 0\n",
        "user_severity = 'Moderate'\n",
        "user_contact = 'yes'"
      ],
      "execution_count": 0,
      "outputs": []
    },
    {
      "cell_type": "code",
      "metadata": {
        "id": "8pMoaZFVnwmV",
        "colab_type": "code",
        "colab": {}
      },
      "source": [
        "gen = gender_onehot.transform([gender_label.transform([user_gender])])\n",
        "sev = severity_onehot.transform([severity_label.transform([user_severity])])\n",
        "con = contact_onehot.transform([contact_label.transform([user_contact])])"
      ],
      "execution_count": 0,
      "outputs": []
    },
    {
      "cell_type": "code",
      "metadata": {
        "id": "ZSWmrRxSoWOn",
        "colab_type": "code",
        "colab": {}
      },
      "source": [
        "gen = gen.toarray()\n",
        "sev = sev.toarray()\n",
        "con = con.toarray()"
      ],
      "execution_count": 0,
      "outputs": []
    },
    {
      "cell_type": "code",
      "metadata": {
        "id": "cZ3VehMzoeaC",
        "colab_type": "code",
        "colab": {}
      },
      "source": [
        "test_data = np.array([[user_age, user_fever, user_bodypain,user_runny_nose,user_breath, user_nasal, user_throat]])"
      ],
      "execution_count": 0,
      "outputs": []
    },
    {
      "cell_type": "code",
      "metadata": {
        "id": "mTXMXPGQo0l6",
        "colab_type": "code",
        "colab": {}
      },
      "source": [
        "test_data = np.c_[test_data, gen, sev, con]"
      ],
      "execution_count": 0,
      "outputs": []
    },
    {
      "cell_type": "code",
      "metadata": {
        "id": "KjyoPqXRo7Ab",
        "colab_type": "code",
        "colab": {
          "base_uri": "https://localhost:8080/",
          "height": 52
        },
        "outputId": "2504d0c4-bf8c-4afc-e52e-036dea0b5835"
      },
      "source": [
        "test_data"
      ],
      "execution_count": 84,
      "outputs": [
        {
          "output_type": "execute_result",
          "data": {
            "text/plain": [
              "array([[23., 98.,  1.,  1.,  0.,  0.,  0.,  0.,  1.,  0.,  0.,  1.,  0.,\n",
              "         0.,  0.,  1.]])"
            ]
          },
          "metadata": {
            "tags": []
          },
          "execution_count": 84
        }
      ]
    },
    {
      "cell_type": "code",
      "metadata": {
        "id": "cHbx3UGgo_zQ",
        "colab_type": "code",
        "colab": {}
      },
      "source": [
        "test_data = scaler.transform(test_data)"
      ],
      "execution_count": 0,
      "outputs": []
    },
    {
      "cell_type": "code",
      "metadata": {
        "id": "PyIwTa4qpHXH",
        "colab_type": "code",
        "colab": {
          "base_uri": "https://localhost:8080/",
          "height": 87
        },
        "outputId": "878fb327-ed49-4665-eb6b-aa38565e4def"
      },
      "source": [
        "test_data"
      ],
      "execution_count": 86,
      "outputs": [
        {
          "output_type": "execute_result",
          "data": {
            "text/plain": [
              "array([[-1.18399548, -1.51145874,  0.73015672,  1.54770166, -0.9688716 ,\n",
              "        -0.94205214, -1.0198039 , -0.9673204 ,  0.99401551, -0.11744404,\n",
              "        -1.32370791,  1.93907194, -0.42544317, -0.96345251, -0.58243308,\n",
              "         1.66410059]])"
            ]
          },
          "metadata": {
            "tags": []
          },
          "execution_count": 86
        }
      ]
    },
    {
      "cell_type": "code",
      "metadata": {
        "id": "C_T_BrLBpIlt",
        "colab_type": "code",
        "colab": {
          "base_uri": "https://localhost:8080/",
          "height": 35
        },
        "outputId": "0b961c6d-6db9-43d6-f7d0-90981dc2c004"
      },
      "source": [
        "logistic.predict(test_data)"
      ],
      "execution_count": 87,
      "outputs": [
        {
          "output_type": "execute_result",
          "data": {
            "text/plain": [
              "array([1])"
            ]
          },
          "metadata": {
            "tags": []
          },
          "execution_count": 87
        }
      ]
    },
    {
      "cell_type": "code",
      "metadata": {
        "id": "oUMQKtBFpNQz",
        "colab_type": "code",
        "colab": {
          "base_uri": "https://localhost:8080/",
          "height": 35
        },
        "outputId": "40f56ca2-184c-4af4-d969-c03d109ad748"
      },
      "source": [
        "logistic.predict_proba(test_data)"
      ],
      "execution_count": 78,
      "outputs": [
        {
          "output_type": "execute_result",
          "data": {
            "text/plain": [
              "array([[9.99588363e-01, 4.11637355e-04]])"
            ]
          },
          "metadata": {
            "tags": []
          },
          "execution_count": 78
        }
      ]
    },
    {
      "cell_type": "code",
      "metadata": {
        "id": "u85VcJGIpSdi",
        "colab_type": "code",
        "colab": {}
      },
      "source": [
        ""
      ],
      "execution_count": 0,
      "outputs": []
    }
  ]
}